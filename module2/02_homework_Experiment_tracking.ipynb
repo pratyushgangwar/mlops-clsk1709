{
 "cells": [
  {
   "cell_type": "code",
   "execution_count": 10,
   "id": "600b2e1d-8ded-46c7-891f-477d961a1d0f",
   "metadata": {},
   "outputs": [
    {
     "name": "stdout",
     "output_type": "stream",
     "text": [
      "mlflow, version 2.16.2\n"
     ]
    }
   ],
   "source": [
    "#Q1. Install MLflow\n",
    "!mlflow --version\n",
    "\n",
    "#version 2.16.2"
   ]
  },
  {
   "cell_type": "code",
   "execution_count": 11,
   "id": "047781cf-575a-4bbd-84f9-0f3e8e79a824",
   "metadata": {},
   "outputs": [],
   "source": [
    "#Q2. Download and preprocess the data\n",
    "!python ./preprocess_data.py --raw_data_path ../../ --dest_path ../../output"
   ]
  },
  {
   "cell_type": "code",
   "execution_count": 12,
   "id": "559c1936-ed9b-490d-8eb2-977341414e41",
   "metadata": {},
   "outputs": [
    {
     "name": "stdout",
     "output_type": "stream",
     "text": [
      "dv.pkl\ttest.pkl  train.pkl  val.pkl\n"
     ]
    }
   ],
   "source": [
    "\n",
    "\n",
    "!ls ../../output/\n",
    "\n",
    "#output - 4"
   ]
  },
  {
   "cell_type": "code",
   "execution_count": 13,
   "id": "8dc0741b-1595-472d-8024-f1ecfcb41679",
   "metadata": {},
   "outputs": [
    {
     "name": "stdout",
     "output_type": "stream",
     "text": [
      "2024/10/20 12:45:27 INFO mlflow.tracking.fluent: Experiment with name 'random-forest-training-1' does not exist. Creating a new experiment.\n",
      "2024/10/20 12:45:28 WARNING mlflow.sklearn: Failed to log training dataset information to MLflow Tracking. Reason: 'numpy.ndarray' object has no attribute 'toarray'\n",
      "2024/10/20 12:45:39 WARNING mlflow.utils.environment: Encountered an unexpected error while inferring pip requirements (model URI: /tmp/tmpjgoq1qxe/model/model.pkl, flavor: sklearn). Fall back to return ['scikit-learn==1.0.2', 'cloudpickle==2.0.0']. Set logging level to DEBUG to see the full traceback. \n"
     ]
    }
   ],
   "source": [
    "#Q3. Train a model with autolog\n",
    "!python train.py"
   ]
  },
  {
   "attachments": {},
   "cell_type": "markdown",
   "id": "eb93b7dc-8bfc-4aeb-8856-3818f611936d",
   "metadata": {},
   "source": [
    "![Minimum split](\"C:\\Users\\pratyush_gangwar\\Pictures\\experiment-tracking-Q2.png\")"
   ]
  },
  {
   "cell_type": "markdown",
   "id": "6934e930-1df0-4a78-839d-04839f659a36",
   "metadata": {},
   "source": [
    "#Q4. Launch the tracking server locally\n",
    "![Q4_exptracking](\"C:\\Users\\pratyush_gangwar\\Pictures\\experiment-tracking-Q4.png\")"
   ]
  },
  {
   "cell_type": "code",
   "execution_count": 18,
   "id": "a9e5f915-f33e-4596-b7ad-32ca537f1a28",
   "metadata": {},
   "outputs": [
    {
     "name": "stdout",
     "output_type": "stream",
     "text": [
      "Collecting hyperopt\n",
      "  Downloading hyperopt-0.2.7-py2.py3-none-any.whl (1.6 MB)\n",
      "\u001b[K     |████████████████████████████████| 1.6 MB 366 kB/s eta 0:00:01\n",
      "\u001b[?25hRequirement already satisfied: cloudpickle in /home/pratyush_gangwar/anaconda3/lib/python3.9/site-packages (from hyperopt) (2.0.0)\n",
      "Requirement already satisfied: tqdm in /home/pratyush_gangwar/anaconda3/lib/python3.9/site-packages (from hyperopt) (4.64.0)\n",
      "Requirement already satisfied: scipy in /home/pratyush_gangwar/anaconda3/lib/python3.9/site-packages (from hyperopt) (1.7.3)\n",
      "Collecting py4j\n",
      "  Downloading py4j-0.10.9.7-py2.py3-none-any.whl (200 kB)\n",
      "\u001b[K     |████████████████████████████████| 200 kB 1.4 MB/s eta 0:00:01\n",
      "\u001b[?25hRequirement already satisfied: networkx>=2.2 in /home/pratyush_gangwar/anaconda3/lib/python3.9/site-packages (from hyperopt) (2.7.1)\n",
      "Requirement already satisfied: future in /home/pratyush_gangwar/anaconda3/lib/python3.9/site-packages (from hyperopt) (0.18.2)\n",
      "Requirement already satisfied: numpy in /home/pratyush_gangwar/anaconda3/lib/python3.9/site-packages (from hyperopt) (1.21.5)\n",
      "Requirement already satisfied: six in /home/pratyush_gangwar/anaconda3/lib/python3.9/site-packages (from hyperopt) (1.16.0)\n",
      "Installing collected packages: py4j, hyperopt\n",
      "Successfully installed hyperopt-0.2.7 py4j-0.10.9.7\n"
     ]
    }
   ],
   "source": [
    "!python -m pip install hyperopt"
   ]
  },
  {
   "cell_type": "code",
   "execution_count": 19,
   "id": "961040ac-b76d-41fa-bf5e-e87cc74893b6",
   "metadata": {},
   "outputs": [
    {
     "name": "stdout",
     "output_type": "stream",
     "text": [
      "2024/10/21 12:22:23 INFO mlflow.tracking.fluent: Experiment with name 'random-forest-hyperopt' does not exist. Creating a new experiment.\n",
      "  0%|                                    | 0/15 [00:00<?, ?trial/s, best loss=?]2024/10/21 12:22:33 INFO mlflow.tracking._tracking_service.client: 🏃 View run ambitious-newt-961 at: http://127.0.0.1:5000/#/experiments/6/runs/7bcacbacff3343a38bde59507919cf21.\n",
      "\n",
      "2024/10/21 12:22:33 INFO mlflow.tracking._tracking_service.client: 🧪 View experiment at: http://127.0.0.1:5000/#/experiments/6.\n",
      "\n",
      "  7%|▋          | 1/15 [00:10<02:22, 10.20s/trial, best loss: 5.370086069268862]2024/10/21 12:22:34 INFO mlflow.tracking._tracking_service.client: 🏃 View run nervous-crow-166 at: http://127.0.0.1:5000/#/experiments/6/runs/e77c6c8ef33140d2b48c581031588cce.\n",
      "\n",
      "2024/10/21 12:22:34 INFO mlflow.tracking._tracking_service.client: 🧪 View experiment at: http://127.0.0.1:5000/#/experiments/6.\n",
      "\n",
      " 13%|█▍         | 2/15 [00:11<01:02,  4.82s/trial, best loss: 5.370086069268862]2024/10/21 12:22:36 INFO mlflow.tracking._tracking_service.client: 🏃 View run worried-bee-99 at: http://127.0.0.1:5000/#/experiments/6/runs/63a23d38909f44efaa63224afb7dde2a.\n",
      "\n",
      "2024/10/21 12:22:36 INFO mlflow.tracking._tracking_service.client: 🧪 View experiment at: http://127.0.0.1:5000/#/experiments/6.\n",
      "\n",
      " 20%|██▏        | 3/15 [00:12<00:37,  3.14s/trial, best loss: 5.370086069268862]2024/10/21 12:22:42 INFO mlflow.tracking._tracking_service.client: 🏃 View run mercurial-bear-126 at: http://127.0.0.1:5000/#/experiments/6/runs/d0d53aa658ad4171909355cc2826d9a3.\n",
      "\n",
      "2024/10/21 12:22:42 INFO mlflow.tracking._tracking_service.client: 🧪 View experiment at: http://127.0.0.1:5000/#/experiments/6.\n",
      "\n",
      " 27%|██▉        | 4/15 [00:18<00:46,  4.27s/trial, best loss: 5.357490752366866]2024/10/21 12:22:45 INFO mlflow.tracking._tracking_service.client: 🏃 View run clean-lynx-641 at: http://127.0.0.1:5000/#/experiments/6/runs/463f7f1f2edc4dceb3a7a987a2a7f506.\n",
      "\n",
      "2024/10/21 12:22:45 INFO mlflow.tracking._tracking_service.client: 🧪 View experiment at: http://127.0.0.1:5000/#/experiments/6.\n",
      "\n",
      " 33%|███▋       | 5/15 [00:21<00:38,  3.86s/trial, best loss: 5.357490752366866]2024/10/21 12:22:54 INFO mlflow.tracking._tracking_service.client: 🏃 View run beautiful-koi-867 at: http://127.0.0.1:5000/#/experiments/6/runs/c2f0e19391394058bc7534e90d64cf9f.\n",
      "\n",
      "2024/10/21 12:22:54 INFO mlflow.tracking._tracking_service.client: 🧪 View experiment at: http://127.0.0.1:5000/#/experiments/6.\n",
      "\n",
      " 40%|████▍      | 6/15 [00:30<00:50,  5.66s/trial, best loss: 5.354695072530291]2024/10/21 12:23:03 INFO mlflow.tracking._tracking_service.client: 🏃 View run amusing-cow-805 at: http://127.0.0.1:5000/#/experiments/6/runs/1f7b588fc0e1497a9bb169631ad79355.\n",
      "\n",
      "2024/10/21 12:23:03 INFO mlflow.tracking._tracking_service.client: 🧪 View experiment at: http://127.0.0.1:5000/#/experiments/6.\n",
      "\n",
      " 47%|█████▏     | 7/15 [00:39<00:53,  6.74s/trial, best loss: 5.354695072530291]2024/10/21 12:23:04 INFO mlflow.tracking._tracking_service.client: 🏃 View run luminous-quail-822 at: http://127.0.0.1:5000/#/experiments/6/runs/8783748fc1e84061a5cffc0ed44f6043.\n",
      "\n",
      "2024/10/21 12:23:04 INFO mlflow.tracking._tracking_service.client: 🧪 View experiment at: http://127.0.0.1:5000/#/experiments/6.\n",
      "\n",
      " 53%|█████▊     | 8/15 [00:41<00:35,  5.07s/trial, best loss: 5.354695072530291]2024/10/21 12:23:09 INFO mlflow.tracking._tracking_service.client: 🏃 View run amazing-sheep-579 at: http://127.0.0.1:5000/#/experiments/6/runs/6d619a2000f3479187be8445a6be8262.\n",
      "\n",
      "2024/10/21 12:23:09 INFO mlflow.tracking._tracking_service.client: 🧪 View experiment at: http://127.0.0.1:5000/#/experiments/6.\n",
      "\n",
      " 60%|██████▌    | 9/15 [00:46<00:30,  5.06s/trial, best loss: 5.354695072530291]2024/10/21 12:23:14 INFO mlflow.tracking._tracking_service.client: 🏃 View run smiling-bass-127 at: http://127.0.0.1:5000/#/experiments/6/runs/02ca18c7301c47dba1e44413bbcdfb0a.\n",
      "\n",
      "2024/10/21 12:23:14 INFO mlflow.tracking._tracking_service.client: 🧪 View experiment at: http://127.0.0.1:5000/#/experiments/6.\n",
      "\n",
      " 67%|██████▋   | 10/15 [00:50<00:24,  4.84s/trial, best loss: 5.354695072530291]2024/10/21 12:23:17 INFO mlflow.tracking._tracking_service.client: 🏃 View run bright-squirrel-64 at: http://127.0.0.1:5000/#/experiments/6/runs/6648b675416e4afc943f263222c88e62.\n",
      "\n",
      "2024/10/21 12:23:17 INFO mlflow.tracking._tracking_service.client: 🧪 View experiment at: http://127.0.0.1:5000/#/experiments/6.\n",
      "\n",
      " 73%|███████▎  | 11/15 [00:54<00:17,  4.49s/trial, best loss: 5.335419588556921]2024/10/21 12:23:21 INFO mlflow.tracking._tracking_service.client: 🏃 View run popular-sponge-393 at: http://127.0.0.1:5000/#/experiments/6/runs/47bebd8cb3814ea58e642ab052ea2bd5.\n",
      "\n",
      "2024/10/21 12:23:21 INFO mlflow.tracking._tracking_service.client: 🧪 View experiment at: http://127.0.0.1:5000/#/experiments/6.\n",
      "\n",
      " 80%|████████  | 12/15 [00:57<00:12,  4.07s/trial, best loss: 5.335419588556921]2024/10/21 12:23:22 INFO mlflow.tracking._tracking_service.client: 🏃 View run debonair-shrimp-131 at: http://127.0.0.1:5000/#/experiments/6/runs/deaf81bc81384416a8a3e624553e6804.\n",
      "\n",
      "2024/10/21 12:23:22 INFO mlflow.tracking._tracking_service.client: 🧪 View experiment at: http://127.0.0.1:5000/#/experiments/6.\n",
      "\n",
      " 87%|████████▋ | 13/15 [00:58<00:06,  3.23s/trial, best loss: 5.335419588556921]2024/10/21 12:23:25 INFO mlflow.tracking._tracking_service.client: 🏃 View run unruly-skink-343 at: http://127.0.0.1:5000/#/experiments/6/runs/e42e14c39a0443cfa8ffa08af54b1667.\n",
      "\n",
      "2024/10/21 12:23:25 INFO mlflow.tracking._tracking_service.client: 🧪 View experiment at: http://127.0.0.1:5000/#/experiments/6.\n",
      "\n",
      " 93%|█████████▎| 14/15 [01:01<00:03,  3.22s/trial, best loss: 5.335419588556921]2024/10/21 12:23:30 INFO mlflow.tracking._tracking_service.client: 🏃 View run sincere-sloth-521 at: http://127.0.0.1:5000/#/experiments/6/runs/14abd8fd09374ed4826b9555370696c7.\n",
      "\n",
      "2024/10/21 12:23:30 INFO mlflow.tracking._tracking_service.client: 🧪 View experiment at: http://127.0.0.1:5000/#/experiments/6.\n",
      "\n",
      "100%|██████████| 15/15 [01:06<00:00,  4.46s/trial, best loss: 5.335419588556921]\n"
     ]
    }
   ],
   "source": [
    "\n",
    "!python hpo.py"
   ]
  },
  {
   "cell_type": "markdown",
   "id": "e6ab41e5-1bef-4add-b9a1-c0dc493d5b36",
   "metadata": {},
   "source": [
    "#Q5. What's the best validation RMSE that you got?\n",
    "\n",
    "# [RUN OUTPUT 15/15 [01:06<00:00,  4.46s/trial, best loss: 5.335419588556921]\n",
    "![exp-tracking-Q5](\"C:\\Users\\pratyush_gangwar\\Pictures\\experiment-tracking-Q5.png\")"
   ]
  },
  {
   "cell_type": "code",
   "execution_count": 21,
   "id": "afd34d34-5dc6-4a37-9b06-6c37331321ad",
   "metadata": {},
   "outputs": [
    {
     "name": "stdout",
     "output_type": "stream",
     "text": [
      "2024/10/21 14:47:57 WARNING mlflow.sklearn: Failed to log training dataset information to MLflow Tracking. Reason: 'numpy.ndarray' object has no attribute 'toarray'\n",
      "2024/10/21 14:48:05 WARNING mlflow.utils.environment: Encountered an unexpected error while inferring pip requirements (model URI: /tmp/tmpcbxkfkn5/model/model.pkl, flavor: sklearn). Fall back to return ['scikit-learn==1.0.2', 'cloudpickle==2.0.0']. Set logging level to DEBUG to see the full traceback. \n",
      "2024/10/21 14:48:10 INFO mlflow.tracking._tracking_service.client: 🏃 View run silent-crane-627 at: http://127.0.0.1:5000/#/experiments/7/runs/8370f902ad6645c7ad5348233e71b75b.\n",
      "2024/10/21 14:48:10 INFO mlflow.tracking._tracking_service.client: 🧪 View experiment at: http://127.0.0.1:5000/#/experiments/7.\n",
      "2024/10/21 14:48:11 WARNING mlflow.sklearn: Failed to log training dataset information to MLflow Tracking. Reason: 'numpy.ndarray' object has no attribute 'toarray'\n",
      "2024/10/21 14:48:23 WARNING mlflow.utils.environment: Encountered an unexpected error while inferring pip requirements (model URI: /tmp/tmpqmma7wyz/model/model.pkl, flavor: sklearn). Fall back to return ['scikit-learn==1.0.2', 'cloudpickle==2.0.0']. Set logging level to DEBUG to see the full traceback. \n",
      "2024/10/21 14:48:28 INFO mlflow.tracking._tracking_service.client: 🏃 View run bouncy-mouse-931 at: http://127.0.0.1:5000/#/experiments/7/runs/bc9cc8fc28f34e53a27638049da3b521.\n",
      "2024/10/21 14:48:28 INFO mlflow.tracking._tracking_service.client: 🧪 View experiment at: http://127.0.0.1:5000/#/experiments/7.\n",
      "2024/10/21 14:48:29 WARNING mlflow.sklearn: Failed to log training dataset information to MLflow Tracking. Reason: 'numpy.ndarray' object has no attribute 'toarray'\n",
      "2024/10/21 14:48:37 WARNING mlflow.utils.environment: Encountered an unexpected error while inferring pip requirements (model URI: /tmp/tmpzxptvmn4/model/model.pkl, flavor: sklearn). Fall back to return ['scikit-learn==1.0.2', 'cloudpickle==2.0.0']. Set logging level to DEBUG to see the full traceback. \n",
      "2024/10/21 14:48:44 INFO mlflow.tracking._tracking_service.client: 🏃 View run glamorous-finch-327 at: http://127.0.0.1:5000/#/experiments/7/runs/ee10288121334133af5308dcb78d672b.\n",
      "2024/10/21 14:48:44 INFO mlflow.tracking._tracking_service.client: 🧪 View experiment at: http://127.0.0.1:5000/#/experiments/7.\n",
      "2024/10/21 14:48:45 WARNING mlflow.sklearn: Failed to log training dataset information to MLflow Tracking. Reason: 'numpy.ndarray' object has no attribute 'toarray'\n",
      "2024/10/21 14:48:53 WARNING mlflow.utils.environment: Encountered an unexpected error while inferring pip requirements (model URI: /tmp/tmpsxfxkjfe/model/model.pkl, flavor: sklearn). Fall back to return ['scikit-learn==1.0.2', 'cloudpickle==2.0.0']. Set logging level to DEBUG to see the full traceback. \n",
      "2024/10/21 14:48:59 INFO mlflow.tracking._tracking_service.client: 🏃 View run redolent-koi-590 at: http://127.0.0.1:5000/#/experiments/7/runs/640166bd4b534143ad3feedca5a30a41.\n",
      "2024/10/21 14:48:59 INFO mlflow.tracking._tracking_service.client: 🧪 View experiment at: http://127.0.0.1:5000/#/experiments/7.\n",
      "2024/10/21 14:49:00 WARNING mlflow.sklearn: Failed to log training dataset information to MLflow Tracking. Reason: 'numpy.ndarray' object has no attribute 'toarray'\n",
      "2024/10/21 14:49:08 WARNING mlflow.utils.environment: Encountered an unexpected error while inferring pip requirements (model URI: /tmp/tmp92slvsmu/model/model.pkl, flavor: sklearn). Fall back to return ['scikit-learn==1.0.2', 'cloudpickle==2.0.0']. Set logging level to DEBUG to see the full traceback. \n",
      "2024/10/21 14:49:13 INFO mlflow.tracking._tracking_service.client: 🏃 View run merciful-fowl-313 at: http://127.0.0.1:5000/#/experiments/7/runs/852537b1f3374c23986c5a0196a4cf3b.\n",
      "2024/10/21 14:49:13 INFO mlflow.tracking._tracking_service.client: 🧪 View experiment at: http://127.0.0.1:5000/#/experiments/7.\n",
      "Successfully registered model 'rf-best-model'.\n",
      "2024/10/21 14:49:14 INFO mlflow.store.model_registry.abstract_store: Waiting up to 300 seconds for model version to finish creation. Model name: rf-best-model, version 1\n",
      "Created version '1' of model 'rf-best-model'.\n"
     ]
    }
   ],
   "source": [
    "!python register_model.py"
   ]
  },
  {
   "cell_type": "markdown",
   "id": "14eca234-e71f-4284-9eae-7f40a1ef46a6",
   "metadata": {},
   "source": [
    "#Q6. Promote the best model to the model registry\n",
    "#What is the test RMSE of the best model?\n",
    "![Exp-track-06](\"C:\\Users\\pratyush_gangwar\\Pictures\\experiment-tracking-Q6.png\")"
   ]
  },
  {
   "cell_type": "code",
   "execution_count": null,
   "id": "5c857d72-51f1-4eaf-ab70-ee958e37365c",
   "metadata": {},
   "outputs": [],
   "source": []
  }
 ],
 "metadata": {
  "kernelspec": {
   "display_name": "Python 3 (ipykernel)",
   "language": "python",
   "name": "python3"
  },
  "language_info": {
   "codemirror_mode": {
    "name": "ipython",
    "version": 3
   },
   "file_extension": ".py",
   "mimetype": "text/x-python",
   "name": "python",
   "nbconvert_exporter": "python",
   "pygments_lexer": "ipython3",
   "version": "3.10.12"
  }
 },
 "nbformat": 4,
 "nbformat_minor": 5
}
