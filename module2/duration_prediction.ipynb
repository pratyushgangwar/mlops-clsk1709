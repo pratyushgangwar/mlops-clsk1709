{
 "cells": [
  {
   "cell_type": "code",
   "execution_count": 4,
   "id": "1d2cb857",
   "metadata": {},
   "outputs": [],
   "source": [
    "import pandas as pd\n",
    "import seaborn as sbn\n",
    "import matplotlib.pyplot as plt\n",
    "from sklearn.feature_extraction import DictVectorizer\n",
    "from sklearn.linear_model import LinearRegression\n",
    "from sklearn.linear_model import Lasso\n",
    "from sklearn.metrics import mean_squared_error\n",
    "import numpy as np"
   ]
  },
  {
   "cell_type": "code",
   "execution_count": 5,
   "id": "b229f755-368c-4d02-8905-f4195310cb8f",
   "metadata": {},
   "outputs": [],
   "source": [
    "import pickle"
   ]
  },
  {
   "cell_type": "code",
   "execution_count": 6,
   "id": "40623896-469e-423e-8e95-8ecb14e7997c",
   "metadata": {},
   "outputs": [
    {
     "data": {
      "text/plain": [
       "<Experiment: artifact_location=('/mnt/c/Users/pratyush_gangwar/OneDrive - EPAM/mywork/MLOPS '\n",
       " 'Training/ZOOMCAMP/mlops-clsk1709/module2/mlruns/1'), creation_time=1727772601538, experiment_id='1', last_update_time=1727772601538, lifecycle_stage='active', name='nyc-taxi-experiment', tags={}>"
      ]
     },
     "execution_count": 6,
     "metadata": {},
     "output_type": "execute_result"
    }
   ],
   "source": [
    "import mlflow\n",
    "\n",
    "mlflow.set_tracking_uri(\"sqlite:///mlflow.db\")\n",
    "mlflow.set_experiment(\"nyc-taxi-experiment\")"
   ]
  },
  {
   "cell_type": "code",
   "execution_count": 7,
   "id": "5814e348",
   "metadata": {},
   "outputs": [
    {
     "data": {
      "text/plain": [
       "19"
      ]
     },
     "execution_count": 7,
     "metadata": {},
     "output_type": "execute_result"
    }
   ],
   "source": [
    "#read parquet file\n",
    "#Q1 - Download data and get the length of columns -\n",
    "df_jn = pd.read_parquet(\"https://d37ci6vzurychx.cloudfront.net/trip-data/yellow_tripdata_2023-01.parquet\")\n",
    "#df_fb = pd.read_parquet(\"https://d37ci6vzurychx.cloudfront.net/trip-data/yellow_tripdata_2023-02.parquet\")\n",
    "len(df_jn.columns)\n",
    "\n",
    "#ANswer - 19"
   ]
  },
  {
   "cell_type": "code",
   "execution_count": 8,
   "id": "0d21a2cb",
   "metadata": {},
   "outputs": [],
   "source": [
    "#Q2. Computing durationNow let's compute the duration variable. It should contain the duration of a ride in minutes.\n",
    "#What's the standard deviation of the trips duration in January?\n",
    "\n",
    "df_jn['duration'] = df_jn.tpep_dropoff_datetime - df_jn.tpep_pickup_datetime\n",
    "df_jn['duration'] = df_jn.duration.dt.total_seconds() / 60\n"
   ]
  },
  {
   "cell_type": "code",
   "execution_count": 9,
   "id": "500f8bdb-96ce-45b0-92a4-97652b9e8abd",
   "metadata": {},
   "outputs": [
    {
     "data": {
      "text/plain": [
       "np.float64(15.668995167330452)"
      ]
     },
     "execution_count": 9,
     "metadata": {},
     "output_type": "execute_result"
    }
   ],
   "source": [
    "df_jn.duration.mean()"
   ]
  },
  {
   "cell_type": "code",
   "execution_count": 10,
   "id": "e0f336b8-7d5a-47d7-8602-49fc54fd7f51",
   "metadata": {},
   "outputs": [
    {
     "data": {
      "text/plain": [
       "np.float64(42.59435124195458)"
      ]
     },
     "execution_count": 10,
     "metadata": {},
     "output_type": "execute_result"
    }
   ],
   "source": [
    "df_jn.duration.std()"
   ]
  },
  {
   "cell_type": "code",
   "execution_count": 11,
   "id": "c9cbffa0",
   "metadata": {},
   "outputs": [
    {
     "data": {
      "text/plain": [
       "98.1220282212598"
      ]
     },
     "execution_count": 11,
     "metadata": {},
     "output_type": "execute_result"
    }
   ],
   "source": [
    "len(df_jn[(df_jn.duration >= 1) & (df_jn.duration <= 60)]) / len(df_jn) * 100"
   ]
  },
  {
   "cell_type": "code",
   "execution_count": 12,
   "id": "fc7f3a17",
   "metadata": {},
   "outputs": [],
   "source": [
    "df_jn = df_jn[(df_jn.duration >= 1) & (df_jn.duration <= 60)].copy()"
   ]
  },
  {
   "cell_type": "code",
   "execution_count": 13,
   "id": "9e47cfdf",
   "metadata": {},
   "outputs": [],
   "source": [
    "#Q4. One-hot encoding\n",
    "#Turn the dataframe into a list of dictionaries (remember to re-cast the ids to strings - otherwise it will label encode them)\n",
    "#Fit a dictionary vectorizer\n",
    "#Get a feature matrix from it\n",
    "#What's the dimensionality of this matrix (number of columns)?\n",
    "\n",
    "categorical = ['PULocationID','DOLocationID']\n",
    "numerical = ['trip_distance']\n",
    "df_jn[categorical] = df_jn[categorical].astype(str)\n",
    "\n",
    "train_dicts = df_jn[categorical + numerical].to_dict('records')\n"
   ]
  },
  {
   "cell_type": "code",
   "execution_count": 14,
   "id": "2d4f924d-0fe7-44f9-a4f5-5d9065c46db1",
   "metadata": {},
   "outputs": [],
   "source": [
    "dv = DictVectorizer()\n",
    "x_train = dv.fit_transform(train_dicts)"
   ]
  },
  {
   "cell_type": "code",
   "execution_count": 15,
   "id": "d649f0e7-365b-4d4e-8bc2-3e1f30f2147f",
   "metadata": {},
   "outputs": [
    {
     "name": "stdout",
     "output_type": "stream",
     "text": [
      "Feature matrix size: (3009173, 516)\n"
     ]
    }
   ],
   "source": [
    "print(f'Feature matrix size: {x_train.shape}')"
   ]
  },
  {
   "cell_type": "code",
   "execution_count": 16,
   "id": "d9664dbe",
   "metadata": {},
   "outputs": [
    {
     "name": "stderr",
     "output_type": "stream",
     "text": [
      "/home/pratyush_gangwar/.local/lib/python3.10/site-packages/sklearn/metrics/_regression.py:492: FutureWarning: 'squared' is deprecated in version 1.4 and will be removed in 1.6. To calculate the root mean squared error, use the function'root_mean_squared_error'.\n",
      "  warnings.warn(\n"
     ]
    },
    {
     "data": {
      "text/plain": [
       "np.float64(7.658405251503513)"
      ]
     },
     "execution_count": 16,
     "metadata": {},
     "output_type": "execute_result"
    }
   ],
   "source": [
    "#Q5. Training a model\n",
    "#Train a plain linear regression model with default parameters, where duration is the response variable\n",
    "#Calculate the RMSE of the model on the training data\n",
    "\n",
    "target = 'duration'\n",
    "y_train = df_jn[target].values\n",
    "\n",
    "LR = LinearRegression()\n",
    "LR.fit(x_train,y_train)\n",
    "y_pred = LR.predict(x_train)\n",
    "mean_squared_error(y_train,y_pred, squared=False)\n",
    "\n",
    "#Answer  7.649134295950567"
   ]
  },
  {
   "cell_type": "code",
   "execution_count": 17,
   "id": "03812f85-470a-4a2f-bbd2-890d188a9586",
   "metadata": {},
   "outputs": [
    {
     "data": {
      "image/png": "[encoded data removed]",
      "text/plain": [
       "<Figure size 640x480 with 1 Axes>"
      ]
     },
     "metadata": {},
     "output_type": "display_data"
    }
   ],
   "source": [
    "sbn.histplot(y_pred, label='prediction')\n",
    "sbn.histplot(y_train, label='actual')\n",
    "\n",
    "plt.legend();"
   ]
  },
  {
   "cell_type": "code",
   "execution_count": 18,
   "id": "adc5b48f-b34a-42a4-8359-d404f7d96b58",
   "metadata": {},
   "outputs": [],
   "source": [
    "categorical = ['PULocationID', 'DOLocationID']\n",
    "\n",
    "def read_data(filename):\n",
    "    df = pd.read_parquet(filename)\n",
    "\n",
    "    df['duration'] = df.tpep_dropoff_datetime - df.tpep_pickup_datetime\n",
    "    df.duration = df.duration.dt.total_seconds() / 60\n",
    "\n",
    "    df = df[(df.duration >= 1) & (df.duration <= 60)].copy()\n",
    "\n",
    "    df[categorical] = df[categorical].astype('str')\n",
    "    \n",
    "    return df"
   ]
  },
  {
   "cell_type": "code",
   "execution_count": 19,
   "id": "ed9586ae-74de-4032-9391-8f9f1188bfa7",
   "metadata": {},
   "outputs": [],
   "source": [
    "df_val = read_data('https://d37ci6vzurychx.cloudfront.net/trip-data/yellow_tripdata_2023-02.parquet')"
   ]
  },
  {
   "cell_type": "code",
   "execution_count": 20,
   "id": "a13e3104-8fee-4994-9331-8427ee2e2b41",
   "metadata": {},
   "outputs": [],
   "source": [
    "val_dicts = df_val[categorical].to_dict(orient='records')"
   ]
  },
  {
   "cell_type": "code",
   "execution_count": 21,
   "id": "3592c50f-a11b-48d1-83ec-c081da2912a2",
   "metadata": {},
   "outputs": [],
   "source": [
    "X_val = dv.transform(val_dicts) \n",
    "y_val = df_val.duration.values"
   ]
  },
  {
   "cell_type": "code",
   "execution_count": 22,
   "id": "cad46a15-3705-47e0-906b-8fc041f4e1ea",
   "metadata": {},
   "outputs": [],
   "source": [
    "y_pred = LR.predict(X_val)"
   ]
  },
  {
   "cell_type": "code",
   "execution_count": 23,
   "id": "98a8f329-4c08-4fbf-aec6-561f8f3052b5",
   "metadata": {},
   "outputs": [
    {
     "name": "stdout",
     "output_type": "stream",
     "text": [
      "Val RMSE: 7.820378654228158\n"
     ]
    },
    {
     "name": "stderr",
     "output_type": "stream",
     "text": [
      "/home/pratyush_gangwar/.local/lib/python3.10/site-packages/sklearn/metrics/_regression.py:492: FutureWarning: 'squared' is deprecated in version 1.4 and will be removed in 1.6. To calculate the root mean squared error, use the function'root_mean_squared_error'.\n",
      "  warnings.warn(\n"
     ]
    }
   ],
   "source": [
    "print(f'Val RMSE: {mean_squared_error(y_val, y_pred, squared=False)}')"
   ]
  },
  {
   "cell_type": "code",
   "execution_count": 26,
   "id": "054c7fc3-27e3-4c98-bd73-b606d7a1bb7c",
   "metadata": {},
   "outputs": [
    {
     "name": "stderr",
     "output_type": "stream",
     "text": [
      "/home/pratyush_gangwar/.local/lib/python3.10/site-packages/sklearn/metrics/_regression.py:492: FutureWarning: 'squared' is deprecated in version 1.4 and will be removed in 1.6. To calculate the root mean squared error, use the function'root_mean_squared_error'.\n",
      "  warnings.warn(\n"
     ]
    }
   ],
   "source": [
    "with mlflow.start_run():\n",
    "    mlflow.set_tag(\"Developer\",\"MLflowt1\")\n",
    "    mlflow.log_param(\"train-data-path\",\"./data/yellow_tripdata_2023-01.parquet\")\n",
    "    mlflow.log_param(\"val-data-path\",\"./data/yellow_tripdata_2023-02.parquet\")\n",
    "    alpha = 0.1\n",
    "    mlflow.log_param(\"alpha\", alpha)\n",
    "    lr = Lasso(alpha)\n",
    "    lr.fit(x_train,y_train)\n",
    "    y_pred = lr.predict(X_val)\n",
    "    rmse = mean_squared_error(y_val, y_pred, squared=False)\n",
    "    mlflow.log_metric(\"rmse\",rmse)"
   ]
  },
  {
   "cell_type": "code",
   "execution_count": null,
   "id": "eb2cbb47-8029-4c61-8f6d-eae98e730421",
   "metadata": {},
   "outputs": [],
   "source": []
  }
 ],
 "metadata": {
  "kernelspec": {
   "display_name": "Python 3 (ipykernel)",
   "language": "python",
   "name": "python3"
  },
  "language_info": {
   "codemirror_mode": {
    "name": "ipython",
    "version": 3
   },
   "file_extension": ".py",
   "mimetype": "text/x-python",
   "name": "python",
   "nbconvert_exporter": "python",
   "pygments_lexer": "ipython3",
   "version": "3.10.12"
  }
 },
 "nbformat": 4,
 "nbformat_minor": 5
}
